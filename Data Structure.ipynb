{
 "cells": [
  {
   "cell_type": "markdown",
   "id": "2f815c4c-d5cf-4254-920a-e0f29b9722b4",
   "metadata": {},
   "source": [
    "1.Write a code to reverse a string?"
   ]
  },
  {
   "cell_type": "code",
   "execution_count": 1,
   "id": "65c7fc75-9240-4506-9269-1228567812f1",
   "metadata": {},
   "outputs": [],
   "source": [
    "string = \"Pwskills\""
   ]
  },
  {
   "cell_type": "code",
   "execution_count": 2,
   "id": "3c1c8298-dd0a-44bb-a3e1-f74a00c9ec03",
   "metadata": {},
   "outputs": [
    {
     "data": {
      "text/plain": [
       "'sllikswP'"
      ]
     },
     "execution_count": 2,
     "metadata": {},
     "output_type": "execute_result"
    }
   ],
   "source": [
    "string[::-1]"
   ]
  },
  {
   "cell_type": "markdown",
   "id": "50f52702-729f-440c-86a4-154c3e140b68",
   "metadata": {},
   "source": [
    "2.Write a code to count the number of vowels in a string."
   ]
  },
  {
   "cell_type": "code",
   "execution_count": 3,
   "id": "0c587ddf-1250-43bd-8e67-0e6bd209d0bd",
   "metadata": {},
   "outputs": [],
   "source": [
    "s = \"vowels\""
   ]
  },
  {
   "cell_type": "code",
   "execution_count": 4,
   "id": "c8e93538-a415-4edb-b8c2-1e9afb03ffd3",
   "metadata": {},
   "outputs": [
    {
     "name": "stdout",
     "output_type": "stream",
     "text": [
      "v\n",
      "o\n",
      "w\n",
      "e\n",
      "l\n",
      "s\n",
      "6\n"
     ]
    }
   ],
   "source": [
    "count = 0\n",
    "for i in s:\n",
    "    print(i)\n",
    "    count = count + 1\n",
    "print(count)"
   ]
  },
  {
   "cell_type": "markdown",
   "id": "d623aac1-29da-4192-880b-7ec3a8ba8958",
   "metadata": {},
   "source": [
    "3.Write a code to check if a given string is a palindrome or not."
   ]
  },
  {
   "cell_type": "code",
   "execution_count": 2,
   "id": "b9e4456c-77d3-44f9-9bef-7be067663410",
   "metadata": {},
   "outputs": [
    {
     "name": "stdin",
     "output_type": "stream",
     "text": [
      "Enter the value 121\n"
     ]
    },
    {
     "name": "stdout",
     "output_type": "stream",
     "text": [
      "its a palindrome\n"
     ]
    }
   ],
   "source": [
    "value = input(\"Enter the value\")\n",
    "reversed_value =value[::-1]\n",
    "if value == reversed_value:\n",
    "    print(\"its a palindrome\")\n",
    "else:\n",
    "    print(\"its not palindrome\")"
   ]
  },
  {
   "cell_type": "code",
   "execution_count": 5,
   "id": "3a04784a-ab20-4c53-bdbb-be4eef8f30c4",
   "metadata": {},
   "outputs": [
    {
     "name": "stdin",
     "output_type": "stream",
     "text": [
      "Enter the value Raj\n"
     ]
    },
    {
     "name": "stdout",
     "output_type": "stream",
     "text": [
      "its not palindrome\n"
     ]
    }
   ],
   "source": [
    "value = input(\"Enter the value\")\n",
    "reversed_value =value[::-1]\n",
    "if value == reversed_value:\n",
    "    print(\"its a palindrome\")\n",
    "else:\n",
    "    print(\"its not palindrome\")"
   ]
  },
  {
   "cell_type": "markdown",
   "id": "4d382c33-327b-415d-a54e-972962d0898b",
   "metadata": {},
   "source": [
    " 4.Write a code to check if two given strings are anagrams of each other"
   ]
  },
  {
   "cell_type": "code",
   "execution_count": 1,
   "id": "95a6d62c-a764-4b06-94a3-cb51f36deb69",
   "metadata": {},
   "outputs": [
    {
     "name": "stdout",
     "output_type": "stream",
     "text": [
      "True\n",
      "False\n"
     ]
    }
   ],
   "source": [
    "def are_anagrams(str1, str2):\n",
    "    \"\"\"\n",
    "    Returns True if str1 and str2 are anagrams of each other, False otherwise.\n",
    "    \"\"\"\n",
    "    str1 = str1.replace(\" \", \"\").lower()\n",
    "    str2 = str2.replace(\" \", \"\").lower()\n",
    "    \n",
    "    return sorted(str1) == sorted(str2)\n",
    "\n",
    "print(are_anagrams(\"Listen\", \"Silent\"))  \n",
    "print(are_anagrams(\"Hello\", \"World\"))  "
   ]
  },
  {
   "cell_type": "markdown",
   "id": "0e5c660b-38a4-44db-ac9f-ee08ecfbba26",
   "metadata": {},
   "source": [
    "5. Write a code to find all occurrences of a given substring within another string"
   ]
  },
  {
   "cell_type": "code",
   "execution_count": 2,
   "id": "c4e76969-8392-4ca8-8106-710663b73ea7",
   "metadata": {},
   "outputs": [
    {
     "name": "stdout",
     "output_type": "stream",
     "text": [
      "[1, 3, 8, 10]\n"
     ]
    }
   ],
   "source": [
    "def find_all_occurrences(main_str, sub_str):\n",
    "    \"\"\"\n",
    "    Returns a list of indices where the substring is found in the main string.\n",
    "    \"\"\"\n",
    "    indices = []\n",
    "    start_idx = 0\n",
    "    while True:\n",
    "        idx = main_str.find(sub_str, start_idx)\n",
    "        if idx!= -1:\n",
    "            indices.append(idx)\n",
    "            start_idx = idx + 1\n",
    "        else:\n",
    "            break\n",
    "    return indices\n",
    "\n",
    "main_str = \"banana banana\"\n",
    "sub_str = \"ana\"\n",
    "print(find_all_occurrences(main_str, sub_str))  "
   ]
  },
  {
   "cell_type": "markdown",
   "id": "842f3e61-67ce-43d6-a297-bcd4c48cf785",
   "metadata": {},
   "source": [
    "6. Write a code to perform basic string compression using the counts of repeated characters"
   ]
  },
  {
   "cell_type": "code",
   "execution_count": 6,
   "id": "79605fb2-0c81-4d4c-9c94-610178665e98",
   "metadata": {},
   "outputs": [
    {
     "name": "stdout",
     "output_type": "stream",
     "text": [
      "a3b3c3\n",
      "a1b1c1d1e1f1\n"
     ]
    }
   ],
   "source": [
    "def compress_string(input_str):\n",
    "    \"\"\"\n",
    "    Compresses a string by replacing repeated characters with the character and its count.\n",
    "    \"\"\"\n",
    "    if not input_str:\n",
    "        return \"\"\n",
    "\n",
    "    compressed_str = \"\"\n",
    "    count = 1\n",
    "    for i in range(1, len(input_str)):\n",
    "        if input_str[i] == input_str[i - 1]:\n",
    "            count += 1\n",
    "        else:\n",
    "            compressed_str += input_str[i - 1] + str(count)\n",
    "            count = 1\n",
    "    compressed_str += input_str[-1] + str(count)\n",
    "    return compressed_str\n",
    "\n",
    "# Example usage:\n",
    "input_str = \"aaabbbccc\"\n",
    "print(compress_string(input_str))  \n",
    "\n",
    "input_str = \"abcdef\"\n",
    "print(compress_string(input_str))  "
   ]
  },
  {
   "cell_type": "markdown",
   "id": "2d583ae5-a5fc-4cd3-9820-e859945506bb",
   "metadata": {},
   "source": [
    "7. Write a code to determine if a string has all unique characters"
   ]
  },
  {
   "cell_type": "code",
   "execution_count": 7,
   "id": "759d2472-49d3-4fb6-91e2-c8762354dc45",
   "metadata": {},
   "outputs": [
    {
     "name": "stdout",
     "output_type": "stream",
     "text": [
      "True\n",
      "False\n"
     ]
    }
   ],
   "source": [
    "def has_unique_chars(input_str):\n",
    "    return len(input_str) == len(set(input_str))\n",
    "\n",
    "input_str = \"abcdef\"\n",
    "print(has_unique_chars(input_str)) \n",
    "\n",
    "input_str = \"abcdea\"\n",
    "print(has_unique_chars(input_str)) "
   ]
  },
  {
   "cell_type": "markdown",
   "id": "0d520e0b-7839-437c-a6f2-ff2e05e4c8d5",
   "metadata": {},
   "source": [
    "8. Write a code to convert a given string to uppercase or lowercase"
   ]
  },
  {
   "cell_type": "code",
   "execution_count": 1,
   "id": "da131c37-00c3-44aa-bc66-0f09a2cb901e",
   "metadata": {},
   "outputs": [
    {
     "name": "stdout",
     "output_type": "stream",
     "text": [
      "HELLO WORLD\n",
      "hello world\n"
     ]
    }
   ],
   "source": [
    "def convert_case(input_str, case):\n",
    "    if case == 'upper':\n",
    "        return input_str.upper()\n",
    "    elif case == 'lower':\n",
    "        return input_str.lower()\n",
    "\n",
    "input_str = \"Hello World\"\n",
    "\n",
    "print(convert_case(input_str, 'upper'))  \n",
    "print(convert_case(input_str, 'lower'))  "
   ]
  },
  {
   "cell_type": "markdown",
   "id": "202fc214-7d68-48d8-936d-07d18b5797ab",
   "metadata": {},
   "source": [
    "9. Write a code to count the number of words in a string"
   ]
  },
  {
   "cell_type": "code",
   "execution_count": 2,
   "id": "fd268218-60b3-4e34-8e4a-0c3f8403689b",
   "metadata": {},
   "outputs": [
    {
     "name": "stdout",
     "output_type": "stream",
     "text": [
      "Number of words: 7\n"
     ]
    }
   ],
   "source": [
    "def count_words(string):\n",
    "    words = string.split()\n",
    "    return len(words)\n",
    "\n",
    "input_string = \"Hello, world! This is an example string.\"\n",
    "word_count = count_words(input_string)\n",
    "print(f\"Number of words: {word_count}\")"
   ]
  },
  {
   "cell_type": "markdown",
   "id": "e2a4d949-15a3-4a5c-991b-19cfbef75647",
   "metadata": {},
   "source": [
    "10. Write a code to concatenate two strings without using the + operator"
   ]
  },
  {
   "cell_type": "code",
   "execution_count": 3,
   "id": "198460d9-c65b-4365-95ff-f34c43054176",
   "metadata": {},
   "outputs": [
    {
     "name": "stdout",
     "output_type": "stream",
     "text": [
      "Hello, world!\n"
     ]
    }
   ],
   "source": [
    "def concat_strings(str1, str2):\n",
    "    return ''.join([str1, str2])\n",
    "\n",
    "string1 = \"Hello, \"\n",
    "string2 = \"world!\"\n",
    "result = concat_strings(string1, string2)\n",
    "print(result)"
   ]
  },
  {
   "cell_type": "markdown",
   "id": "6033a7fb-2f04-4a9b-b723-b3c0787a0a8e",
   "metadata": {},
   "source": [
    "11. Write a code to remove all occurrences of a specific element from a list"
   ]
  },
  {
   "cell_type": "code",
   "execution_count": 4,
   "id": "9dbb10bd-81f7-47d0-8089-bdcffe298aa6",
   "metadata": {},
   "outputs": [
    {
     "name": "stdout",
     "output_type": "stream",
     "text": [
      "[1, 3, 4, 5]\n"
     ]
    }
   ],
   "source": [
    "def remove_occurrences(lst, element):\n",
    "    return [item for item in lst if item != element]\n",
    "\n",
    "my_list = [1, 2, 3, 2, 4, 2, 5]\n",
    "element_to_remove = 2\n",
    "result = remove_occurrences(my_list, element_to_remove)\n",
    "print(result)  "
   ]
  },
  {
   "cell_type": "markdown",
   "id": "0a91a4cb-9547-485b-900e-5d95677e37ea",
   "metadata": {},
   "source": [
    "12. Implement a code to find the second largest number in a given list of integers"
   ]
  },
  {
   "cell_type": "code",
   "execution_count": 5,
   "id": "af99e257-2eed-465b-85e7-8ced813fb1d3",
   "metadata": {},
   "outputs": [
    {
     "name": "stdout",
     "output_type": "stream",
     "text": [
      "5\n"
     ]
    }
   ],
   "source": [
    "def second_largest(numbers):\n",
    "    unique_numbers = list(set(numbers))  \n",
    "    if len(unique_numbers) < 2:\n",
    "        return None \n",
    "    unique_numbers.sort()  \n",
    "    return unique_numbers[-2] \n",
    "\n",
    "my_list = [5, 1, 3, 4, 2, 5, 6]\n",
    "result = second_largest(my_list)\n",
    "print(result) "
   ]
  },
  {
   "cell_type": "markdown",
   "id": "5ae62635-60a1-4111-b6c1-3d3741668a75",
   "metadata": {},
   "source": [
    "13. Create a code to count the occurrences of each element in a list and return a dictionary with elements as \n",
    "keys and their counts as values"
   ]
  },
  {
   "cell_type": "code",
   "execution_count": 6,
   "id": "f0545e30-1e0d-4eab-b2ac-f9e01969180f",
   "metadata": {},
   "outputs": [
    {
     "name": "stdout",
     "output_type": "stream",
     "text": [
      "{1: 2, 2: 2, 3: 3, 4: 1}\n"
     ]
    }
   ],
   "source": [
    "def count_occurrences(lst):\n",
    "    count_dict = {}\n",
    "    for item in lst:\n",
    "        if item in count_dict:\n",
    "            count_dict[item] += 1\n",
    "        else:\n",
    "            count_dict[item] = 1\n",
    "    return count_dict\n",
    "\n",
    "my_list = [1, 2, 2, 3, 1, 4, 3, 3]\n",
    "result = count_occurrences(my_list)\n",
    "print(result) "
   ]
  },
  {
   "cell_type": "markdown",
   "id": "aa549f9e-ef96-483a-972b-7d3982323030",
   "metadata": {},
   "source": [
    "14. Write a code to reverse a list in-place without using any built-in reverse functions"
   ]
  },
  {
   "cell_type": "code",
   "execution_count": 7,
   "id": "525cc7de-cc30-4fa4-82be-653bcbe00679",
   "metadata": {},
   "outputs": [
    {
     "name": "stdout",
     "output_type": "stream",
     "text": [
      "[5, 4, 3, 2, 1]\n"
     ]
    }
   ],
   "source": [
    "def reverse_list(lst):\n",
    "    left = 0\n",
    "    right = len(lst) - 1\n",
    "    while left < right:\n",
    "        lst[left], lst[right] = lst[right], lst[left]\n",
    "        left += 1\n",
    "        right -= 1\n",
    "    return lst\n",
    "\n",
    "my_list = [1, 2, 3, 4, 5]\n",
    "reversed_list = reverse_list(my_list)\n",
    "print(reversed_list) "
   ]
  },
  {
   "cell_type": "markdown",
   "id": "ebee08a9-8023-4f34-a1be-9c7c6e119059",
   "metadata": {},
   "source": [
    "15. Implement a code to find and remove duplicates from a list while preserving the original order of \n",
    "elements"
   ]
  },
  {
   "cell_type": "code",
   "execution_count": 8,
   "id": "20d377e9-6697-4475-9a9e-05dfae3f1da0",
   "metadata": {},
   "outputs": [
    {
     "name": "stdout",
     "output_type": "stream",
     "text": [
      "[1, 2, 3, 4, 5]\n"
     ]
    }
   ],
   "source": [
    "def remove_duplicates(lst):\n",
    "    seen = set()\n",
    "    result = []\n",
    "    for item in lst:\n",
    "        if item not in seen:\n",
    "            seen.add(item)\n",
    "            result.append(item)\n",
    "    return result\n",
    "\n",
    "my_list = [1, 2, 3, 2, 4, 3, 5]\n",
    "result = remove_duplicates(my_list)\n",
    "print(result) "
   ]
  },
  {
   "cell_type": "markdown",
   "id": "d0a89f7f-47ee-45d6-be18-57814123a09d",
   "metadata": {},
   "source": [
    "16. Create a code to check if a given list is sorted (either in ascending or descending order) or not"
   ]
  },
  {
   "cell_type": "code",
   "execution_count": 9,
   "id": "b036ef9f-73ec-45df-a45e-950e10e18f25",
   "metadata": {},
   "outputs": [
    {
     "name": "stdout",
     "output_type": "stream",
     "text": [
      "True\n",
      "True\n",
      "False\n"
     ]
    }
   ],
   "source": [
    "def is_sorted(lst):\n",
    "    if len(lst) < 2:\n",
    "        return True  # A list with 0 or 1 element is considered sorted\n",
    "    ascending = all(lst[i] <= lst[i + 1] for i in range(len(lst) - 1))\n",
    "    descending = all(lst[i] >= lst[i + 1] for i in range(len(lst) - 1))\n",
    "    return ascending or descending\n",
    "\n",
    "my_list_asc = [1, 2, 3, 4, 5]\n",
    "my_list_desc = [5, 4, 3, 2, 1]\n",
    "my_list_unsorted = [1, 3, 2, 4]\n",
    "\n",
    "print(is_sorted(my_list_asc))     \n",
    "print(is_sorted(my_list_desc))   \n",
    "print(is_sorted(my_list_unsorted)) "
   ]
  },
  {
   "cell_type": "markdown",
   "id": "679db3d9-027e-4e9d-9793-8accd239358f",
   "metadata": {},
   "source": [
    "17. Write a code to merge two sorted lists into a single sorted list"
   ]
  },
  {
   "cell_type": "code",
   "execution_count": 10,
   "id": "7e0ac195-24e5-49e1-9af8-8f9c0ebdc0f7",
   "metadata": {},
   "outputs": [
    {
     "name": "stdout",
     "output_type": "stream",
     "text": [
      "[1, 2, 3, 4, 5, 6]\n"
     ]
    }
   ],
   "source": [
    "def merge_sorted_lists(list1, list2):\n",
    "    return sorted(list1 + list2)\n",
    "\n",
    "list1 = [1, 3, 5]\n",
    "list2 = [2, 4, 6]\n",
    "\n",
    "merged_list = merge_sorted_lists(list1, list2)\n",
    "print(merged_list)  "
   ]
  },
  {
   "cell_type": "markdown",
   "id": "3e81ee37-57bc-4cc8-9b6d-39491e9d5678",
   "metadata": {},
   "source": [
    "18. Implement a code to find the intersection of two given lists"
   ]
  },
  {
   "cell_type": "code",
   "execution_count": 11,
   "id": "df2ffc9e-efbe-45ea-9990-2e353f068fb5",
   "metadata": {},
   "outputs": [
    {
     "name": "stdout",
     "output_type": "stream",
     "text": [
      "[4, 5]\n"
     ]
    }
   ],
   "source": [
    "def list_intersection(list1, list2):\n",
    "    return list(set(list1) & set(list2))\n",
    "\n",
    "list1 = [1, 2, 3, 4, 5]\n",
    "list2 = [4, 5, 6, 7, 8]\n",
    "\n",
    "intersection = list_intersection(list1, list2)\n",
    "print(intersection)  "
   ]
  },
  {
   "cell_type": "markdown",
   "id": "652c0ed6-bdb7-4871-9b24-b5a94b57111f",
   "metadata": {},
   "source": [
    "19. Create a code to find the union of two lists without duplicates"
   ]
  },
  {
   "cell_type": "code",
   "execution_count": 12,
   "id": "e0fe687c-aece-4e81-b97a-1a046988fd96",
   "metadata": {},
   "outputs": [
    {
     "name": "stdout",
     "output_type": "stream",
     "text": [
      "[1, 2, 3, 4, 5, 6, 7, 8]\n"
     ]
    }
   ],
   "source": [
    "def list_union(list1, list2):\n",
    "    return list(set(list1) | set(list2))\n",
    "\n",
    "list1 = [1, 2, 3, 4, 5]\n",
    "list2 = [4, 5, 6, 7, 8]\n",
    "\n",
    "union = list_union(list1, list2)\n",
    "print(union)  "
   ]
  },
  {
   "cell_type": "markdown",
   "id": "30881e9f-e0e4-47e0-a15f-5624b54e179b",
   "metadata": {},
   "source": [
    "20. Write a code to shuffle a given list randomly without using any built-in shuffle functions"
   ]
  },
  {
   "cell_type": "code",
   "execution_count": 13,
   "id": "b7a0ab0f-b1cd-4c87-806e-df60c3fbbb07",
   "metadata": {},
   "outputs": [
    {
     "name": "stdout",
     "output_type": "stream",
     "text": [
      "Original List: [1, 2, 3, 4, 5, 6, 7, 8, 9]\n",
      "Shuffled List: [8, 2, 1, 9, 6, 3, 5, 4, 7]\n"
     ]
    }
   ],
   "source": [
    "import random\n",
    "\n",
    "def shuffle_list(input_list):\n",
    "    for i in range(len(input_list) - 1, 0, -1):\n",
    "        j = random.randint(0, i)\n",
    "        input_list[i], input_list[j] = input_list[j], input_list[i]\n",
    "    return input_list\n",
    "\n",
    "my_list = [1, 2, 3, 4, 5, 6, 7, 8, 9]\n",
    "print(\"Original List:\", my_list)\n",
    "print(\"Shuffled List:\", shuffle_list(my_list))"
   ]
  },
  {
   "cell_type": "markdown",
   "id": "21b38235-ca53-49a8-9298-6902ab1a2bfc",
   "metadata": {},
   "source": [
    "21. Write a code that takes two tuples as input and returns a new tuple containing elements that are \n",
    "common to both input tuples"
   ]
  },
  {
   "cell_type": "code",
   "execution_count": 14,
   "id": "5dc93cc5-ebce-464a-971b-3067084321d4",
   "metadata": {},
   "outputs": [
    {
     "name": "stdout",
     "output_type": "stream",
     "text": [
      "(4, 5)\n"
     ]
    }
   ],
   "source": [
    "def common_elements(tuple1, tuple2):\n",
    "    return tuple(set(tuple1) & set(tuple2))\n",
    "\n",
    "tuple1 = (1, 2, 3, 4, 5)\n",
    "tuple2 = (4, 5, 6, 7, 8)\n",
    "\n",
    "common = common_elements(tuple1, tuple2)\n",
    "print(common)  "
   ]
  },
  {
   "cell_type": "markdown",
   "id": "16cbbfea-89fd-4d43-b854-16731822edbf",
   "metadata": {},
   "source": [
    "22. Create a code that prompts the user to enter two sets of integers separated by commas. Then, print the \n",
    "intersection of these two sets"
   ]
  },
  {
   "cell_type": "code",
   "execution_count": 15,
   "id": "98737907-5736-4cac-8f1a-e6cff9308f26",
   "metadata": {},
   "outputs": [
    {
     "name": "stdin",
     "output_type": "stream",
     "text": [
      "Enter first set of integers (separated by commas):  1, 2, 3, 4, 5\n",
      "Enter second set of integers (separated by commas):  4, 5, 6, 7, 8\n"
     ]
    },
    {
     "name": "stdout",
     "output_type": "stream",
     "text": [
      "Intersection: {4, 5}\n"
     ]
    }
   ],
   "source": [
    "def get_set(prompt):\n",
    "    return set(map(int, input(prompt).split(',')))\n",
    "\n",
    "def main():\n",
    "    set1 = get_set(\"Enter first set of integers (separated by commas): \")\n",
    "    set2 = get_set(\"Enter second set of integers (separated by commas): \")\n",
    "\n",
    "    intersection = set1 & set2\n",
    "    print(\"Intersection:\", intersection)\n",
    "\n",
    "if __name__ == \"__main__\":\n",
    "    main()"
   ]
  },
  {
   "cell_type": "markdown",
   "id": "0ca5ba35-c3c1-4425-bf37-8aa3084e7745",
   "metadata": {},
   "source": [
    "23. Write a code to concatenate two tuples. The function should take two tuples as input and return a new \n",
    "tuple containing elements from both input tuples."
   ]
  },
  {
   "cell_type": "code",
   "execution_count": 17,
   "id": "33ccb50e-f7a0-4b66-ada4-d9b19f5b16fb",
   "metadata": {},
   "outputs": [
    {
     "name": "stdout",
     "output_type": "stream",
     "text": [
      "(1, 2, 3, 4, 5, 6)\n"
     ]
    }
   ],
   "source": [
    "def concat_tuples(tuple1, tuple2):\n",
    "    return tuple1 + tuple2\n",
    "\n",
    "tuple1 = (1, 2, 3)\n",
    "tuple2 = (4, 5, 6)\n",
    "\n",
    "result = concat_tuples(tuple1, tuple2)\n",
    "print(result)  "
   ]
  },
  {
   "cell_type": "markdown",
   "id": "e0e1f710-59f0-4c61-821e-2f91c932ab10",
   "metadata": {},
   "source": [
    "24.Develop a code that prompts the user to input two sets of strings. Then, print the elements that are \n",
    "present in the first set but not in the second set"
   ]
  },
  {
   "cell_type": "code",
   "execution_count": 18,
   "id": "616a9608-3a51-4f57-a106-f3e8b48c052b",
   "metadata": {},
   "outputs": [
    {
     "name": "stdin",
     "output_type": "stream",
     "text": [
      "Enter first set of strings (separated by commas):  apple, banana, cherry\n",
      "Enter second set of strings (separated by commas):  banana, orange, grapes\n"
     ]
    },
    {
     "name": "stdout",
     "output_type": "stream",
     "text": [
      "Elements in first set but not in second: {'apple', ' banana', ' cherry'}\n"
     ]
    }
   ],
   "source": [
    "def get_set(prompt):\n",
    "    return set(input(prompt).split(','))\n",
    "\n",
    "def main():\n",
    "    set1 = get_set(\"Enter first set of strings (separated by commas): \")\n",
    "    set2 = get_set(\"Enter second set of strings (separated by commas): \")\n",
    "\n",
    "    difference = set1 - set2\n",
    "    print(\"Elements in first set but not in second:\", difference)\n",
    "\n",
    "if __name__ == \"__main__\":\n",
    "    main()"
   ]
  },
  {
   "cell_type": "markdown",
   "id": "7629bc5d-f10c-44ee-85f9-cac49bd5b09c",
   "metadata": {},
   "source": [
    "25. Create a code that takes a tuple and two integers as input. The function should return a new tuple \n",
    "containing elements from the original tuple within the specified range of indices"
   ]
  },
  {
   "cell_type": "code",
   "execution_count": 19,
   "id": "b44c34ad-403b-4f58-9a23-b99e284a7f88",
   "metadata": {},
   "outputs": [
    {
     "name": "stdout",
     "output_type": "stream",
     "text": [
      "(3, 4, 5, 6)\n"
     ]
    }
   ],
   "source": [
    "def slice_tuple(t, start, end):\n",
    "    return t[start:end]\n",
    "\n",
    "t = (1, 2, 3, 4, 5, 6, 7, 8, 9)\n",
    "start = 2\n",
    "end = 6\n",
    "\n",
    "result = slice_tuple(t, start, end)\n",
    "print(result) "
   ]
  },
  {
   "cell_type": "markdown",
   "id": "3231db1b-2f91-42d0-b821-5a0c02538d20",
   "metadata": {},
   "source": [
    "26. Write a code that prompts the user to input two sets of characters. Then, print the union of these two sets"
   ]
  },
  {
   "cell_type": "code",
   "execution_count": 20,
   "id": "b2fe9181-c484-4d69-9084-23aebfe1f243",
   "metadata": {},
   "outputs": [
    {
     "name": "stdin",
     "output_type": "stream",
     "text": [
      "Enter first set of characters:  abc\n",
      "Enter second set of characters:  bcd\n"
     ]
    },
    {
     "name": "stdout",
     "output_type": "stream",
     "text": [
      "Union of the two sets: {'c', 'b', 'a', 'd'}\n"
     ]
    }
   ],
   "source": [
    "def get_set(prompt):\n",
    "    return set(input(prompt))\n",
    "\n",
    "def main():\n",
    "    set1 = get_set(\"Enter first set of characters: \")\n",
    "    set2 = get_set(\"Enter second set of characters: \")\n",
    "\n",
    "    union = set1.union(set2)\n",
    "    print(\"Union of the two sets:\", union)\n",
    "\n",
    "if __name__ == \"__main__\":\n",
    "    main()"
   ]
  },
  {
   "cell_type": "markdown",
   "id": "e2dd43fc-c320-4d3c-aa32-4cdf82e56fd4",
   "metadata": {},
   "source": [
    "27. Develop a code that takes a tuple of integers as input. The function should return the maximum and \n",
    "minimum values from the tuple using tuple unpacking"
   ]
  },
  {
   "cell_type": "code",
   "execution_count": 21,
   "id": "0d111ab7-0b33-4d85-b362-5b64347819a6",
   "metadata": {},
   "outputs": [
    {
     "name": "stdout",
     "output_type": "stream",
     "text": [
      "Maximum value: 89\n",
      "Minimum value: 7\n"
     ]
    }
   ],
   "source": [
    "def find_max_min(t):\n",
    "    return max(t), min(t)\n",
    "\n",
    "t = (12, 45, 7, 23, 56, 89, 34)\n",
    "max_val, min_val = find_max_min(t)\n",
    "\n",
    "print(\"Maximum value:\", max_val)\n",
    "print(\"Minimum value:\", min_val)"
   ]
  },
  {
   "cell_type": "markdown",
   "id": "b5a679a3-2524-46e0-b29a-d9f9f02538c2",
   "metadata": {},
   "source": [
    "28. Create a code that defines two sets of integers. Then, print the union, intersection, and difference of these \n",
    "two sets"
   ]
  },
  {
   "cell_type": "code",
   "execution_count": 22,
   "id": "311939a3-060b-407e-8e05-e3861add2054",
   "metadata": {},
   "outputs": [
    {
     "name": "stdout",
     "output_type": "stream",
     "text": [
      "Union: {1, 2, 3, 4, 5, 6, 7, 8}\n",
      "Intersection: {4, 5}\n",
      "Difference (set1 - set2): {1, 2, 3}\n",
      "Difference (set2 - set1): {8, 6, 7}\n"
     ]
    }
   ],
   "source": [
    "set1 = {1, 2, 3, 4, 5}\n",
    "set2 = {4, 5, 6, 7, 8}\n",
    "\n",
    "union = set1.union(set2)\n",
    "print(\"Union:\", union)\n",
    "\n",
    "intersection = set1.intersection(set2)\n",
    "print(\"Intersection:\", intersection)\n",
    "\n",
    "difference1 = set1.difference(set2)\n",
    "print(\"Difference (set1 - set2):\", difference1)\n",
    "\n",
    "difference2 = set2.difference(set1)\n",
    "print(\"Difference (set2 - set1):\", difference2)"
   ]
  },
  {
   "cell_type": "markdown",
   "id": "ee5a0a9f-1181-46e1-8949-c58d7d9bfda5",
   "metadata": {},
   "source": [
    "29. Write a code that takes a tuple and an element as input. The function should return the count of \n",
    "occurrences of the given element in the tuple"
   ]
  },
  {
   "cell_type": "code",
   "execution_count": 23,
   "id": "79e0217c-2dac-4c96-91e1-8b8b8c290c67",
   "metadata": {},
   "outputs": [
    {
     "name": "stdout",
     "output_type": "stream",
     "text": [
      "The element 2 occurs 3 times in the tuple.\n"
     ]
    }
   ],
   "source": [
    "def count_occurrences(t, elem):\n",
    "    return t.count(elem)\n",
    "\n",
    "t = (1, 2, 3, 2, 4, 2, 5)\n",
    "elem = 2\n",
    "count = count_occurrences(t, elem)\n",
    "\n",
    "print(f\"The element {elem} occurs {count} times in the tuple.\")"
   ]
  },
  {
   "cell_type": "markdown",
   "id": "be7954fc-e032-4ebc-97e4-1b76ca1853e1",
   "metadata": {},
   "source": [
    "30. Develop a code that prompts the user to input two sets of strings. Then, print the symmetric difference of \n",
    "these two sets"
   ]
  },
  {
   "cell_type": "code",
   "execution_count": 24,
   "id": "111c01dd-5cd5-4847-a288-daa0af33d9b0",
   "metadata": {},
   "outputs": [
    {
     "name": "stdin",
     "output_type": "stream",
     "text": [
      "Enter the first set of strings (separated by commas):  apple, banana, orange\n",
      "Enter the second set of strings (separated by commas):  banana, orange, grapes\n"
     ]
    },
    {
     "name": "stdout",
     "output_type": "stream",
     "text": [
      "Symmetric difference: {'apple', ' grapes', ' banana', 'banana'}\n"
     ]
    }
   ],
   "source": [
    "set1_input = input(\"Enter the first set of strings (separated by commas): \")\n",
    "set2_input = input(\"Enter the second set of strings (separated by commas): \")\n",
    "\n",
    "set1 = set(set1_input.split(','))\n",
    "set2 = set(set2_input.split(','))\n",
    "\n",
    "symmetric_difference = set1.symmetric_difference(set2)\n",
    "\n",
    "print(\"Symmetric difference:\", symmetric_difference)"
   ]
  },
  {
   "cell_type": "markdown",
   "id": "67408417-76b2-4942-b3ed-bb01ccb131b5",
   "metadata": {},
   "source": [
    "31. Write a code that takes a list of words as input and returns a dictionary where the keys are unique words \n",
    "and the values are the frequencies of those words in the input list"
   ]
  },
  {
   "cell_type": "code",
   "execution_count": 25,
   "id": "fe05078e-4002-4613-8bce-bc345541829c",
   "metadata": {},
   "outputs": [
    {
     "name": "stdin",
     "output_type": "stream",
     "text": [
      "Enter a list of words (separated by spaces):  hello world hello again world\n"
     ]
    },
    {
     "name": "stdout",
     "output_type": "stream",
     "text": [
      "Word Frequencies:\n",
      "hello: 2\n",
      "world: 2\n",
      "again: 1\n"
     ]
    }
   ],
   "source": [
    "def word_frequencies(word_list):\n",
    "    frequency_dict = {}\n",
    "    for word in word_list:\n",
    "        word = word.lower() \n",
    "        if word in frequency_dict:\n",
    "            frequency_dict[word] += 1\n",
    "        else:\n",
    "            frequency_dict[word] = 1\n",
    "    return frequency_dict\n",
    "\n",
    "words = input(\"Enter a list of words (separated by spaces): \").split()\n",
    "frequency_dict = word_frequencies(words)\n",
    "\n",
    "print(\"Word Frequencies:\")\n",
    "for word, frequency in frequency_dict.items():\n",
    "    print(f\"{word}: {frequency}\")"
   ]
  },
  {
   "cell_type": "markdown",
   "id": "a74886b0-9e28-4d01-a794-1c1f9465139d",
   "metadata": {},
   "source": [
    "32. Write a code that takes two dictionaries as input and merges them into a single dictionary. If there are \n",
    "common keys, the values should be added together"
   ]
  },
  {
   "cell_type": "code",
   "execution_count": 26,
   "id": "9120021d-3bb2-4bc5-9b51-8e6331819ee1",
   "metadata": {},
   "outputs": [
    {
     "name": "stdout",
     "output_type": "stream",
     "text": [
      "Merged Dictionary: {'a': 1, 'b': 6, 'c': 8, 'd': 6}\n"
     ]
    }
   ],
   "source": [
    "def merge_dicts(dict1, dict2):\n",
    "    merged_dict = {**dict1, **dict2}\n",
    "    for key in dict1.keys() & dict2.keys():\n",
    "        merged_dict[key] = dict1[key] + dict2[key]\n",
    "    return merged_dict\n",
    "\n",
    "dict1 = {'a': 1, 'b': 2, 'c': 3}\n",
    "dict2 = {'b': 4, 'c': 5, 'd': 6}\n",
    "\n",
    "merged_dict = merge_dicts(dict1, dict2)\n",
    "print(\"Merged Dictionary:\", merged_dict)"
   ]
  },
  {
   "cell_type": "markdown",
   "id": "626b8784-70e9-4232-b215-217a73ca4343",
   "metadata": {},
   "source": [
    "33.Write a code to access a value in a nested dictionary. The function should take the dictionary and a list of \n",
    "keys as input, and return the corresponding value. If any of the keys do not exist in the dictionary, the \n",
    "function should return None"
   ]
  },
  {
   "cell_type": "code",
   "execution_count": 27,
   "id": "a8772044-dd59-43c3-be0f-56a3b30bc36d",
   "metadata": {},
   "outputs": [
    {
     "name": "stdout",
     "output_type": "stream",
     "text": [
      "Result: 4\n"
     ]
    }
   ],
   "source": [
    "def access_nested_dict(nested_dict, keys):\n",
    "    value = nested_dict\n",
    "    for key in keys:\n",
    "        if isinstance(value, dict) and key in value:\n",
    "            value = value[key]\n",
    "        else:\n",
    "            return None\n",
    "    return value\n",
    "\n",
    "nested_dict = {'a': 1, 'b': {'c': 2, 'd': 3}, 'e': {'f': {'g': 4}}}\n",
    "keys = ['e', 'f', 'g']\n",
    "\n",
    "result = access_nested_dict(nested_dict, keys)\n",
    "print(\"Result:\", result)"
   ]
  },
  {
   "cell_type": "markdown",
   "id": "02870d10-228e-40cf-932b-70b1814c595d",
   "metadata": {},
   "source": [
    "34. Write a code that takes a dictionary as input and returns a sorted version of it based on the values. You \n",
    "can choose whether to sort in ascending or descending order"
   ]
  },
  {
   "cell_type": "code",
   "execution_count": 28,
   "id": "ba995f54-7d10-45f3-84df-1a7446e2195e",
   "metadata": {},
   "outputs": [
    {
     "name": "stdout",
     "output_type": "stream",
     "text": [
      "Sorted Dictionary (Ascending): {'date': 1, 'banana': 2, 'apple': 5, 'elderberry': 6, 'cherry': 8}\n",
      "Sorted Dictionary (Descending): {'cherry': 8, 'elderberry': 6, 'apple': 5, 'banana': 2, 'date': 1}\n"
     ]
    }
   ],
   "source": [
    "def sort_dict_by_value(input_dict, reverse=False):\n",
    "    sorted_dict = dict(sorted(input_dict.items(), key=lambda item: item[1], reverse=reverse))\n",
    "    return sorted_dict\n",
    "\n",
    "input_dict = {'apple': 5, 'banana': 2, 'cherry': 8, 'date': 1, 'elderberry': 6}\n",
    "\n",
    "sorted_dict_asc = sort_dict_by_value(input_dict)\n",
    "print(\"Sorted Dictionary (Ascending):\", sorted_dict_asc)\n",
    "\n",
    "sorted_dict_desc = sort_dict_by_value(input_dict, reverse=True)\n",
    "print(\"Sorted Dictionary (Descending):\", sorted_dict_desc)"
   ]
  },
  {
   "cell_type": "markdown",
   "id": "4ae2337f-1ba6-4465-b17e-d09db34e6bc1",
   "metadata": {},
   "source": [
    "35.Write a code that inverts a dictionary, swapping keys and values. Ensure that the inverted dictionary \n",
    "correctly handles cases where multiple keys have the same value by storing the keys as a list in the \n",
    "inverted dictionary."
   ]
  },
  {
   "cell_type": "code",
   "execution_count": 29,
   "id": "a409b409-5e82-4c8e-92e2-b4cdb85f7f66",
   "metadata": {},
   "outputs": [
    {
     "name": "stdout",
     "output_type": "stream",
     "text": [
      "Inverted Dictionary: {1: ['a', 'c'], 2: ['b', 'e'], 3: ['d']}\n"
     ]
    }
   ],
   "source": [
    "def invert_dict(input_dict):\n",
    "    inverted_dict = {}\n",
    "    for key, value in input_dict.items():\n",
    "        if value not in inverted_dict:\n",
    "            inverted_dict[value] = [key]\n",
    "        else:\n",
    "            inverted_dict[value].append(key)\n",
    "    return inverted_dict\n",
    "\n",
    "input_dict = {'a': 1, 'b': 2, 'c': 1, 'd': 3, 'e': 2}\n",
    "\n",
    "inverted_dict = invert_dict(input_dict)\n",
    "print(\"Inverted Dictionary:\", inverted_dict)"
   ]
  },
  {
   "cell_type": "code",
   "execution_count": null,
   "id": "15be23ed-3708-4239-a80a-07b6331b6297",
   "metadata": {},
   "outputs": [],
   "source": []
  }
 ],
 "metadata": {
  "kernelspec": {
   "display_name": "Python 3 (ipykernel)",
   "language": "python",
   "name": "python3"
  },
  "language_info": {
   "codemirror_mode": {
    "name": "ipython",
    "version": 3
   },
   "file_extension": ".py",
   "mimetype": "text/x-python",
   "name": "python",
   "nbconvert_exporter": "python",
   "pygments_lexer": "ipython3",
   "version": "3.10.8"
  }
 },
 "nbformat": 4,
 "nbformat_minor": 5
}
